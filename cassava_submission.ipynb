{
  "nbformat": 4,
  "nbformat_minor": 0,
  "metadata": {
    "colab": {
      "provenance": [],
      "include_colab_link": true
    },
    "kernelspec": {
      "name": "python3",
      "display_name": "Python 3"
    },
    "language_info": {
      "name": "python"
    }
  },
  "cells": [
    {
      "cell_type": "markdown",
      "metadata": {
        "id": "view-in-github",
        "colab_type": "text"
      },
      "source": [
        "<a href=\"https://colab.research.google.com/github/Muhirwakyeyune/Object_detection/blob/main/cassava_submission.ipynb\" target=\"_parent\"><img src=\"https://colab.research.google.com/assets/colab-badge.svg\" alt=\"Open In Colab\"/></a>"
      ]
    },
    {
      "cell_type": "code",
      "execution_count": null,
      "metadata": {
        "id": "aJDUd1mp1nmX"
      },
      "outputs": [],
      "source": [
        "def process_image(image_dir):\n",
        "    # Process a PIL image for use in a PyTorch model\n",
        "    # tensor.numpy().transpose(1, 2, 0)\n",
        "    image = Image.open(image_dir)\n",
        "    preprocess = transforms.Compose([\n",
        "        transforms.Resize(500),\n",
        "        transforms.CenterCrop(450),\n",
        "        transforms.ToTensor(),\n",
        "        transforms.Normalize(mean=[0.485, 0.456, 0.406], std=[0.229, 0.224, 0.225])\n",
        "    ])\n",
        "    image = preprocess(image)\n",
        "    # Convert 2D image to 1D vector\n",
        "    image = np.expand_dims(image, 0)\n",
        "    image = torch.from_numpy(image)\n",
        "    inputs = image.to(device)\n",
        "    return inputs\n",
        "# Using our model to predict the label\n",
        "def predict(image, model):\n",
        "    # Pass the image through our model\n",
        "    output = model.forward(image)\n",
        "    # Reverse the log function in our output\n",
        "    output = torch.exp(output)\n",
        "    # Get the top predicted class, and the output percentage for\n",
        "    # that class\n",
        "    probs, classes = output.topk(1, dim=1)\n",
        "    return probs.item(), classes.item()"
      ]
    },
    {
      "cell_type": "code",
      "source": [
        "class_names = train_loader.dataset.classes"
      ],
      "metadata": {
        "id": "J0u8-iku1qMO"
      },
      "execution_count": null,
      "outputs": []
    },
    {
      "cell_type": "code",
      "source": [
        "test_directory = '/kaggle/input/ammi-2023-convnets/test/test/0' #/kaggle/input/ammi-2023-convnets/test/test/0\n",
        "predictions, test_image_fileName = [], []\n",
        "try:\n",
        "    test_images = listdir(test_directory)\n",
        "    for images in test_images:\n",
        "        test_image_fileName.append(images)\n",
        "        image = process_image(f'{test_directory}/{images}')\n",
        "        top_prob, top_class = predict(image, model)\n",
        "        predictions.append(class_names[top_class])\n",
        "except Exception as e:\n",
        "    print(e)"
      ],
      "metadata": {
        "id": "3L6flmPe1wR3"
      },
      "execution_count": null,
      "outputs": []
    },
    {
      "cell_type": "code",
      "source": [
        "print(\"[INFO] Creating pandas dataframe\")\n",
        "submission_data = {\"Category\":predictions,\"Id\":test_image_fileName,}\n",
        "submission_data_frame = pd.DataFrame(submission_data)"
      ],
      "metadata": {
        "id": "KcYrTsHb1yEx"
      },
      "execution_count": null,
      "outputs": []
    },
    {
      "cell_type": "code",
      "source": [
        "submission_data_frame.head()"
      ],
      "metadata": {
        "id": "MraqdWAK10VC"
      },
      "execution_count": null,
      "outputs": []
    },
    {
      "cell_type": "code",
      "source": [
        "print(\"[INFO] Saving Predicition to CSV\")\n",
        "submission_data_frame.to_csv('submission_file.csv',columns=[\"Category\",\"Id\"], index = False)"
      ],
      "metadata": {
        "id": "goitpEBq12GE"
      },
      "execution_count": null,
      "outputs": []
    }
  ]
}